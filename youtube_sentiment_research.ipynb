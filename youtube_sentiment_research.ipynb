{
    "cells": [
        {
            "cell_type": "markdown",
            "source": [
                "\r\n",
                "# YouTube Sentiment Research\r\n",
                "## Exploring the correlation between subscriptions and views based on sentiment analysis\r\n",
                "\r\n",
                "The first step is to collect data by scraping youtube pages and running a sentiment analysis on the text in video titles and descriptions. "
            ],
            "metadata": {}
        },
        {
            "cell_type": "code",
            "execution_count": null,
            "source": [
                "import pandas as pd\r\n",
                "import numpy as np\r\n",
                "import requests\r\n"
            ],
            "outputs": [],
            "metadata": {}
        },
        {
            "cell_type": "code",
            "execution_count": null,
            "source": [],
            "outputs": [],
            "metadata": {}
        }
    ],
    "metadata": {
        "orig_nbformat": 4,
        "language_info": {
            "name": "python"
        }
    },
    "nbformat": 4,
    "nbformat_minor": 2
}